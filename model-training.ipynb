import pandas from pd
iowa_file_path = "falana dhimakacsv"
iowa_data = pd.read_csv(iowa_file_path)


//Specify prediction target
y = iowa_data.SalePrice

//Create X-- Dataframa
iowa_data.describe() // prints info in the table mean, std etc.

iowa_data.columns

features_name = ["LotArea","YearBuilt","1stFlrSF","2ndFlrSF","FullBath","BedroomAbvGr","TotRmsAbvGrd"]

X = iowa_data[features_name]

X.describe() //particular features are printed in x
X.head() //beginnning values are printed here

//Specify and fit model
from sklearn.tree import DecisionRegressorTree

iowa_model = DecisionRegressorTree(random_state = 1)//for same value each time it runs

iowa_model.fit(X,y)
//Make Predictions
iowa_model.predict(X)
